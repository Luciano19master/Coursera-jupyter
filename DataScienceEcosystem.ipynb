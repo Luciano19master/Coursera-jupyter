{
 "cells": [
  {
   "cell_type": "markdown",
   "id": "5340a664-2d3f-4290-996d-0d0db3437d8d",
   "metadata": {},
   "source": [
    "# Data Science Tools and Ecosystem"
   ]
  },
  {
   "cell_type": "markdown",
   "id": "b10a74dc-d906-447a-91bf-1c5890e7b13d",
   "metadata": {},
   "source": [
    " In this notebook, Data Science Tools and Ecosystem are summarized."
   ]
  },
  {
   "cell_type": "markdown",
   "id": "738f1958-4eb2-4812-8644-2aaa45a403f9",
   "metadata": {},
   "source": [
    "**Objectives:**\n",
    "<ul>\n",
    "<li>Learn the most important libraries</li>\n",
    "<li>Learn the most important tools for Data Science</li>\n",
    "<li>Show how arithmetic operations work with Python</li>\n",
    "<li>Learn the most famous programming languages for Data Science</li>\n",
    "</ul>"
   ]
  },
  {
   "cell_type": "markdown",
   "id": "62e00e00-127a-4f13-a509-802609ef03e3",
   "metadata": {},
   "source": [
    "Some of the popular languages that Data Scientists use are: \n",
    "<ol>\n",
    "<li>Python</li>\n",
    "<li>R</li>\n",
    "<li>Julia</li>\n",
    "<li>SQL</li>\n",
    "</ol>"
   ]
  },
  {
   "cell_type": "markdown",
   "id": "4298ae53-6868-427d-82d2-a24363c40c8f",
   "metadata": {},
   "source": [
    "Some of the commonly used libraries used by Data Scientists include:\n",
    "<ol>\n",
    "<li>Pandas</li>\n",
    "<li>Numpy</li>\n",
    "<li>Matplotlib</li>\n",
    "<li>Tensorflow</li>\n",
    "</ol>"
   ]
  },
  {
   "cell_type": "markdown",
   "id": "394ed4d4-efaa-42ab-8f08-57eb20684852",
   "metadata": {},
   "source": [
    "| Data Science Tools |\n",
    "|--------------------|\n",
    "| Jupyter Notebook  |\n",
    "| RStudio           |\n",
    "| VS Code          |\n"
   ]
  },
  {
   "cell_type": "markdown",
   "id": "d8dce6af-cdbc-49c3-917d-0fcdaa73c26d",
   "metadata": {},
   "source": [
    "### Below are a few examples of evaluating arithmetic expressions in Python:"
   ]
  },
  {
   "cell_type": "code",
   "execution_count": 41,
   "id": "a89c8cf9-a3d1-4e53-b19d-f20699a31b9c",
   "metadata": {},
   "outputs": [
    {
     "name": "stdout",
     "output_type": "stream",
     "text": [
      "17\n"
     ]
    }
   ],
   "source": [
    "#This a simple arithmetic expression to mutiply then add integers:\n",
    "total = (3*4)+5\n",
    "print(total)"
   ]
  },
  {
   "cell_type": "code",
   "execution_count": 43,
   "id": "f4a71fa8-a68d-486e-b87d-02df7fe6383b",
   "metadata": {},
   "outputs": [
    {
     "data": {
      "text/plain": [
       "3.3333333333333335"
      ]
     },
     "execution_count": 43,
     "metadata": {},
     "output_type": "execute_result"
    }
   ],
   "source": [
    "#This will convert 200 minutes to hours by diving by 60:\n",
    "200 / 60"
   ]
  },
  {
   "cell_type": "markdown",
   "id": "88e402b6-eff3-45f7-ad18-a2c443b045e7",
   "metadata": {},
   "source": [
    "## Autor:\n",
    "Luciano Sepulveda"
   ]
  }
 ],
 "metadata": {
  "kernelspec": {
   "display_name": "Python [conda env:base] *",
   "language": "python",
   "name": "conda-base-py"
  },
  "language_info": {
   "codemirror_mode": {
    "name": "ipython",
    "version": 3
   },
   "file_extension": ".py",
   "mimetype": "text/x-python",
   "name": "python",
   "nbconvert_exporter": "python",
   "pygments_lexer": "ipython3",
   "version": "3.12.7"
  }
 },
 "nbformat": 4,
 "nbformat_minor": 5
}
